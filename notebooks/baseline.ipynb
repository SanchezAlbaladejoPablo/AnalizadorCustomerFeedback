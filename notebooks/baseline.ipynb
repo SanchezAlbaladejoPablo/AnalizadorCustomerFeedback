{
 "cells": [
  {
   "cell_type": "markdown",
   "metadata": {},
   "source": [
    "# Fase 2: Análisis del Modelo Baseline - TF-IDF + Regresión Logística"
   ]
  },
  {
   "cell_type": "markdown",
   "metadata": {},
   "source": [
    "En este notebook, cargaremos el modelo baseline (TF-IDF + Regresión Logística) entrenado en `src/train_baseline.py`, evaluaremos su rendimiento utilizando métricas clave como Accuracy, F1-score y la Matriz de Confusión, y visualizaremos los resultados."
   ]
  },
  {
   "cell_type": "markdown",
   "metadata": {},
   "source": [
    "## 1. Carga de Librerías y Modelos"
   ]
  },
  {
   "cell_type": "code",
   "execution_count": null,
   "metadata": {},
   "outputs": [],
   "source": [
    "import pandas as pd\n",
    "import numpy as np\n",
    "import pickle\n",
    "import os\n",
    "from sklearn.metrics import accuracy_score, f1_score, confusion_matrix, classification_report\n",
    "import matplotlib.pyplot as plt\n",
    "import seaborn as sns\n",
    "\n",
    "sns.set_style(\"whitegrid\")\n",
    "pd.set_option(\'display.max_columns\', 50)\n",
    "pd.set_option(\'display.max_colwidth\', 150)"
   ]
  },
  {
   "cell_type": "code",
   "execution_count": null,
   "metadata": {},
   "outputs": [],
   "source": [
    "# Rutas a los modelos y datos\n",
    "MODELS_PATH = \"../models\"\n",
    "PROCESSED_DATA_PATH = \"../data/processed\"\n",
    "\n",
    "TFIDF_MODEL_PATH = os.path.join(MODELS_PATH, \"tfidf_vectorizer.pkl\")\n",
    "LOGREG_MODEL_PATH = os.path.join(MODELS_PATH, \"tfidf_logreg.pkl\")\n",
    "TEST_FILE = os.path.join(PROCESSED_DATA_PATH, \"test.csv\")\n",
    "\n",
    "# Cargar el vectorizador TF-IDF\n",
    "with open(TFIDF_MODEL_PATH, \"rb\") as f:\n",
    "    tfidf_vectorizer = pickle.load(f)\n",
    "\n",
    "# Cargar el modelo de Regresión Logística\n",
    "with open(LOGREG_MODEL_PATH, \"rb\") as f:\n",
    "    log_reg_model = pickle.load(f)\n",
    "\n",
    "print(\"Modelos cargados exitosamente.\")"
   ]
  },
  {
   "cell_type": "markdown",
   "metadata": {},
   "source": [
    "## 2. Carga y Preparación de Datos de Prueba"
   ]
  },
  {
   "cell_type": "code",
   "execution_count": null,
   "metadata": {},
   "outputs": [],
   "source": [
    "test_df = pd.read_csv(TEST_FILE)\n",
    "\n",
    "X_test = test_df[\"processed_text\"]\n",
    "y_test = test_df[\"sentiment\"]\n",
    "\n",
    "# Transformar el texto de prueba usando el vectorizador TF-IDF entrenado\n",
    "X_test_tfidf = tfidf_vectorizer.transform(X_test)\n",
    "\n",
    "print(f\"Datos de prueba cargados y transformados. Tamaño: {X_test_tfidf.shape}\")"
   ]
  },
  {
   "cell_type": "markdown",
   "metadata": {},
   "source": [
    "## 3. Predicciones y Evaluación"
   ]
  },
  {
   "cell_type": "code",
   "execution_count": null,
   "metadata": {},
   "outputs": [],
   "source": [
    "y_pred = log_reg_model.predict(X_test_tfidf)\n",
    "\n",
    "print(\"--- Métricas de Evaluación ---\")\n",
    "print(f\"Accuracy: {accuracy_score(y_test, y_pred):.4f}\")\n",
    "print(f\"F1-Score: {f1_score(y_test, y_pred):.4f}\")\n",
    "print(\"\nReporte de Clasificación:\n\")\n",
    "print(classification_report(y_test, y_pred))"
   ]
  },
  {
   "cell_type": "markdown",
   "metadata": {},
   "source": [
    "## 4. Matriz de Confusión"
   ]
  },
  {
   "cell_type": "code",
   "execution_count": null,
   "metadata": {},
   "outputs": [],
   "source": [
    "cm = confusion_matrix(y_test, y_pred)\n",
    "plt.figure(figsize=(8, 6))\n",
    "sns.heatmap(cm, annot=True, fmt=\"d\", cmap=\"Blues\", cbar=False,\n",
    "            xticklabels=[\"Negativo\", \"Positivo\"], yticklabels=[\"Negativo\", \"Positivo\"])\n",
    "plt.xlabel(\"Predicción\")\n",
    "plt.ylabel(\"Real\")\n",
    "plt.title(\"Matriz de Confusión\")\n",
    "plt.show()"
   ]
  },
  {
   "cell_type": "markdown",
   "metadata": {},
   "source": [
    "## 5. Observaciones y Conclusiones"
   ]
  },
  {
   "cell_type": "markdown",
   "metadata": {},
   "source": [
    "- El modelo baseline de TF-IDF + Regresión Logística proporciona un rendimiento inicial razonable para la clasificación de sentimiento.\n",
    "- El F1-Score es una métrica importante a considerar dado el posible desbalance de clases, aunque en este caso hemos estratificado la división para mitigar ese efecto.\n",
    "- La matriz de confusión nos muestra cómo el modelo está clasificando las instancias: cuántos verdaderos positivos, verdaderos negativos, falsos positivos y falsos negativos hay.\n",
    "- Este modelo servirá como una base sólida para comparar con modelos más avanzados basados en arquitecturas de Transformers en fases posteriores."
   ]
  }
 ],
 "metadata": {
  "kernelspec": {
   "display_name": "Python 3",
   "language": "python",
   "name": "python3"
  },
  "language_info": {
   "codemirror_mode": {
    "name": "ipython",
    "version": 3
   },
   "file_extension": ".py",
   "mimetype": "text/x-python",
   "name": "python",
   "nbconvert_exporter": "python",
   "pygments_lexer": "ipython3",
   "version": "3.9.12"
  }
 },
 "nbformat": 4,
 "nbformat_minor": 4
}

