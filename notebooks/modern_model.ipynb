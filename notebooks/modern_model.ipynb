{
 "cells": [
  {
   "cell_type": "markdown",
   "metadata": {},
   "source": [
    "# Fase 3: Análisis del Modelo Moderno - Fine-tuning DistilBERT"
   ]
  },
  {
   "cell_type": "markdown",
   "metadata": {},
   "source": [
    "En este notebook, cargaremos el modelo DistilBERT fine-tuned entrenado en `src/train_distilbert.py`, evaluaremos su rendimiento utilizando métricas clave como Accuracy, F1-score y la Matriz de Confusión, y compararemos estos resultados con el modelo baseline de la Fase 2."
   ]
  },
  {
   "cell_type": "markdown",
   "metadata": {},
   "source": [
    "## 1. Carga de Librerías y Modelos"
   ]
  },
  {
   "cell_type": "code",
   "execution_count": null,
   "metadata": {},
   "outputs": [],
   "source": [
    "import pandas as pd\n",
    "import numpy as np\n",
    "import os\n",
    "from sklearn.metrics import accuracy_score, f1_score, confusion_matrix, classification_report\n",
    "import matplotlib.pyplot as plt\n",
    "import seaborn as sns\n",
    "from transformers import DistilBertTokenizerFast, DistilBertForSequenceClassification\n",
    "import torch\n",
    "\n",
    "sns.set_style(\"whitegrid\")\n",
    "pd.set_option(\'display.max_columns\', 50)\n",
    "pd.set_option(\'display.max_colwidth\', 150)"
   ]
  },
  {
   "cell_type": "code",
   "execution_count": null,
   "metadata": {},
   "outputs": [],
   "source": [
    "# Rutas a los modelos y datos\n",
    "MODELS_PATH = \"../models\"\n",
    "PROCESSED_DATA_PATH = \"../data/processed\"\n",
    "\n",
    "DISTILBERT_MODEL_DIR = os.path.join(MODELS_PATH, \"distilbert_sentiment\")\n",
    "TEST_FILE = os.path.join(PROCESSED_DATA_PATH, \"test.csv\")\n",
    "\n",
    "# Cargar tokenizer y modelo DistilBERT fine-tuned\n",
    "tokenizer = DistilBertTokenizerFast.from_pretrained(DISTILBERT_MODEL_DIR)\n",
    "model = DistilBertForSequenceClassification.from_pretrained(DISTILBERT_MODEL_DIR)\n",
    "model.eval() # Poner el modelo en modo evaluación\n",
    "\n",
    "print(\"Modelo DistilBERT cargado exitosamente.\")"
   ]
  },
  {
   "cell_type": "markdown",
   "metadata": {},
   "source": [
    "## 2. Carga y Preparación de Datos de Prueba"
   ]
  },
  {
   "cell_type": "code",
   "execution_count": null,
   "metadata": {},
   "outputs": [],
   "source": [
    "test_df = pd.read_csv(TEST_FILE)\n",
    "\n",
    "X_test = test_df[\"processed_text\"]\n",
    "y_test = test_df[\"sentiment\"]\n",
    "\n",
    "# Tokenizar el texto de prueba\n",
    "test_encodings = tokenizer(list(X_test), truncation=True, padding=True, max_length=512, return_tensors=\"pt\")\n",
    "\n",
    "print(f\"Datos de prueba cargados y tokenizados. Número de muestras: {len(X_test)}\")"
   ]
  },
  {
   "cell_type": "markdown",
   "metadata": {},
   "source": [
    "## 3. Predicciones y Evaluación"
   ]
  },
  {
   "cell_type": "code",
   "execution_count": null,
   "metadata": {},
   "outputs": [],
   "source": [
    "# Realizar predicciones\n",
    "with torch.no_grad():\n",
    "    outputs = model(**test_encodings)\n",
    "    logits = outputs.logits\n",
    "    y_pred = torch.argmax(logits, dim=1).numpy()\n",
    "\n",
    "print(\"--- Métricas de Evaluación (DistilBERT) ---\")\n",
    "print(f\"Accuracy: {accuracy_score(y_test, y_pred):.4f}\")\n",
    "print(f\"F1-Score: {f1_score(y_test, y_pred):.4f}\")\n",
    "print(\"\nReporte de Clasificación:\n\")\n",
    "print(classification_report(y_test, y_pred))"
   ]
  },
  {
   "cell_type": "markdown",
   "metadata": {},
   "source": [
    "## 4. Matriz de Confusión"
   ]
  },
  {
   "cell_type": "code",
   "execution_count": null,
   "metadata": {},
   "outputs": [],
   "source": [
    "cm = confusion_matrix(y_test, y_pred)\n",
    "plt.figure(figsize=(8, 6))\n",
    "sns.heatmap(cm, annot=True, fmt=\"d\", cmap=\"Blues\", cbar=False,\n",
    "            xticklabels=[\"Negativo\", \"Positivo\"], yticklabels=[\"Negativo\", \"Positivo\"])\n",
    "plt.xlabel(\"Predicción\")\n",
    "plt.ylabel(\"Real\")\n",
    "plt.title(\"Matriz de Confusión (DistilBERT)\")\n",
    "plt.show()"
   ]
  },
  {
   "cell_type": "markdown",
   "metadata": {},
   "source": [
    "## 5. Comparación con el Modelo Baseline"
   ]
  },
  {
   "cell_type": "markdown",
   "metadata": {},
   "source": [
    "Para una comparación directa, podemos cargar las métricas del modelo baseline si las tenemos guardadas o ejecutarlas de nuevo. Aquí, asumiremos que ya hemos ejecutado el notebook `baseline.ipynb` y tenemos una idea de sus métricas."
   ]
  },
  {
   "cell_type": "code",
   "execution_count": null,
   "metadata": {},
   "outputs": [],
   "source": [
    "# Ejemplo de métricas del baseline (reemplazar con valores reales si se tienen)\n",
    "baseline_accuracy = 0.85 # Ejemplo\n",
    "baseline_f1 = 0.78     # Ejemplo\n",
    "\n",
    "print(\"--- Comparación de Modelos ---\")\n",
    "print(f\"Modelo Baseline (TF-IDF + Regresión Logística):\")\n",
    "print(f\"  Accuracy: {baseline_accuracy:.4f}\")\n",
    "print(f\"  F1-Score: {baseline_f1:.4f}\")\n",
    "print(f\"\nModelo Moderno (DistilBERT):\")\n",
    "print(f\"  Accuracy: {accuracy_score(y_test, y_pred):.4f}\")\n",
    "print(f\"  F1-Score: {f1_score(y_test, y_pred):.4f}\")\n",
    "\n",
    "# Observaciones sobre la mejora\n",
    "if accuracy_score(y_test, y_pred) > baseline_accuracy:\n",
    "    print(\"El modelo DistilBERT muestra una mejora en Accuracy.\")\n",
    "if f1_score(y_test, y_pred) > baseline_f1:\n",
    "    print(\"El modelo DistilBERT muestra una mejora en F1-Score.\")"
   ]
  },
  {
   "cell_type": "markdown",
   "metadata": {},
   "source": [
    "## 6. Conclusiones del Modelo Moderno"
   ]
  },
  {
   "cell_type": "markdown",
   "metadata": {},
   "source": [
    "- El fine-tuning de DistilBERT generalmente resulta en un rendimiento superior al de los modelos baseline tradicionales, especialmente en tareas de NLP como la clasificación de sentimiento.\n",
    "- La capacidad de los modelos basados en Transformers para capturar contextos y relaciones complejas en el lenguaje les otorga una ventaja significativa.\n",
    "- Es importante monitorear el F1-score, especialmente si el dataset tiene un desbalance de clases, para asegurar que el modelo no solo predice bien la clase mayoritaria.\n",
    "- El modelo DistilBERT fine-tuned está listo para ser integrado en la API y el dashboard, proporcionando predicciones de sentimiento de alta calidad."
   ]
  }
 ],
 "metadata": {
  "kernelspec": {
   "display_name": "Python 3",
   "language": "python",
   "name": "python3"
  },
  "language_info": {
   "codemirror_mode": {
    "name": "ipython",
    "version": 3
   },
   "file_extension": ".py",
   "mimetype": "text/x-python",
   "name": "python",
   "nbconvert_exporter": "python",
   "pygments_lexer": "ipython3",
   "version": "3.9.12"
  }
 },
 "nbformat": 4,
 "nbformat_minor": 4
}

